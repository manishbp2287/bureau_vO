{
 "cells": [
  {
   "cell_type": "code",
   "execution_count": 1,
   "id": "c2f388cd-9bcd-46a4-9b44-5ddfecc7f897",
   "metadata": {},
   "outputs": [],
   "source": [
    "import pandas as pd\n",
    "import numpy as np\n",
    "import pandas_gbq\n",
    "import os.path\n",
    "from pandas.io.json import json_normalize\n",
    "from datetime import datetime\n",
    "import json\n",
    "pd.options.display.max_columns = None"
   ]
  },
  {
   "cell_type": "code",
   "execution_count": 2,
   "id": "d6b701b5-701b-4277-9317-3a869d7e0fc8",
   "metadata": {},
   "outputs": [],
   "source": [
    "trade = \"\"\"\n",
    "with trade as (\n",
    "\n",
    "WITH\n",
    "  latest_date AS (\n",
    "  SELECT\n",
    "    pancard,\n",
    "    MAX(updated_time) AS latest_date\n",
    "  FROM\n",
    "    `bharatpe-analytics-prod.bharatpe_mongo_data.consumer_bureau_data`\n",
    "  WHERE\n",
    "    DATE(ingested_time) >= \"2022-09-01\"\n",
    "  GROUP BY\n",
    "    1 )\n",
    "\n",
    "SELECT\n",
    "  e.pancard,\n",
    "  JSON_VALUE(responses,'$.LOAN-DETAILS.DISBURSED-AMT') disbursed_amount,\n",
    "  JSON_VALUE(responses,'$.LOAN-DETAILS.ACCT-TYPE') account_type,\n",
    "  JSON_VALUE(responses,'$.LOAN-DETAILS.DISBURSED-DT') disbursed_date,\n",
    "  JSON_VALUE(responses,'$.LOAN-DETAILS.CLOSED-DATE') closed_date,\n",
    "  JSON_VALUE(responses,'$.LOAN-DETAILS.COMBINED-PAYMENT-HISTORY') payment_history,\n",
    "  JSON_VALUE(responses,'$.LOAN-DETAILS.WRITTEN-OFF_SETTLED-STATUS') writeoff_status,\n",
    "FROM\n",
    "  `bharatpe-analytics-prod.bharatpe_mongo_data.consumer_bureau_data` e\n",
    "LEFT JOIN\n",
    "  UNNEST(JSON_QUERY_ARRAY(bureauData,'$.B2C-REPORT.RESPONSES.RESPONSE')) AS responses\n",
    "LEFT JOIN latest_date ld\n",
    "ON ld.latest_date = e.updated_time\n",
    "WHERE\n",
    "  e.bureauData IS NOT NULL\n",
    "  AND DATE(ingested_time) >= \"2022-09-01\"\n",
    ")\n",
    "\n",
    "select * from trade\n",
    "where account_type is not NULL\n",
    "and substr(pancard, 1,1) = 'C'\n",
    "\"\"\""
   ]
  },
  {
   "cell_type": "code",
   "execution_count": 3,
   "id": "3d8a026c-fcd2-44c9-8512-c0279949e72b",
   "metadata": {},
   "outputs": [
    {
     "name": "stderr",
     "output_type": "stream",
     "text": [
      "Downloading: 100%|██████████| 4974/4974 [00:00<00:00, 8338.93rows/s]\n"
     ]
    }
   ],
   "source": [
    "trade = pandas_gbq.read_gbq(trade)"
   ]
  },
  {
   "cell_type": "code",
   "execution_count": 4,
   "id": "c1290622-7428-4a49-9957-2dbf91ae5dea",
   "metadata": {},
   "outputs": [],
   "source": [
    "inquiry = \"\"\"\n",
    "with inquiry as (\n",
    "\n",
    "WITH\n",
    "  latest_date AS (\n",
    "  SELECT\n",
    "    pancard,\n",
    "    MAX(updated_time) AS latest_date\n",
    "  FROM\n",
    "    `bharatpe-analytics-prod.bharatpe_mongo_data.consumer_bureau_data`\n",
    "  WHERE\n",
    "    DATE(ingested_time) >= \"2022-09-01\"\n",
    "  GROUP BY\n",
    "    1 )\n",
    "\n",
    "SELECT\n",
    "  e.pancard,\n",
    "  JSON_VALUE(responses,'$.PURPOSE') purpose,\n",
    "   JSON_VALUE(responses,'$.INQUIRY-DATE') inquiry_date,\n",
    "\n",
    "FROM\n",
    "  `bharatpe-analytics-prod.bharatpe_mongo_data.consumer_bureau_data` e\n",
    "LEFT JOIN\n",
    "  UNNEST(JSON_QUERY_ARRAY(bureauData,'$.B2C-REPORT.INQUIRY-HISTORY.HISTORY')) AS responses\n",
    "LEFT JOIN latest_date ld\n",
    "ON ld.latest_date = e.updated_time\n",
    "WHERE\n",
    "  e.bureauData IS NOT NULL\n",
    "  AND DATE(ingested_time) >= \"2022-09-01\"\n",
    ")\n",
    "select * from inquiry where purpose is not Null\n",
    "and substr(pancard, 1,1) = 'C'\n",
    "\"\"\""
   ]
  },
  {
   "cell_type": "code",
   "execution_count": 5,
   "id": "2ef8dd6c-311f-4fc0-83e7-c05ac69df898",
   "metadata": {},
   "outputs": [
    {
     "name": "stderr",
     "output_type": "stream",
     "text": [
      "Downloading: 100%|██████████| 1242/1242 [00:00<00:00, 8626.31rows/s]\n"
     ]
    }
   ],
   "source": [
    "inquiry = pandas_gbq.read_gbq(inquiry)"
   ]
  },
  {
   "cell_type": "code",
   "execution_count": 6,
   "id": "bb10f1f8-1711-487e-8695-40832fc9814c",
   "metadata": {},
   "outputs": [],
   "source": [
    "pull_date = \"\"\"\n",
    "SELECT\n",
    "    pancard,\n",
    "    date(MAX(updated_time)) AS latest_date\n",
    "  FROM\n",
    "    `bharatpe-analytics-prod.bharatpe_mongo_data.consumer_bureau_data`\n",
    "  WHERE\n",
    "    DATE(ingested_time) >= \"2022-09-01\"\n",
    "  GROUP BY\n",
    "    1\n",
    "\"\"\""
   ]
  },
  {
   "cell_type": "code",
   "execution_count": 7,
   "id": "b011264d-dcc7-4eb4-994f-619df57bcebe",
   "metadata": {},
   "outputs": [
    {
     "name": "stderr",
     "output_type": "stream",
     "text": [
      "Downloading: 100%|██████████| 17296/17296 [00:00<00:00, 33086.25rows/s]\n"
     ]
    }
   ],
   "source": [
    "pull_date = pandas_gbq.read_gbq(pull_date)"
   ]
  },
  {
   "cell_type": "code",
   "execution_count": 8,
   "id": "42250099-6041-4674-95aa-92df111b09d1",
   "metadata": {},
   "outputs": [],
   "source": [
    "open_date = pull_date.set_index('pancard')['latest_date'].to_dict()"
   ]
  },
  {
   "cell_type": "code",
   "execution_count": 9,
   "id": "6c8e83a6-817f-4f73-97f1-46567470b6e0",
   "metadata": {},
   "outputs": [],
   "source": [
    "trade['inquiry_date'] = trade['pancard'].map(open_date)"
   ]
  },
  {
   "cell_type": "code",
   "execution_count": 10,
   "id": "7303630b-884a-43a3-afd3-7dcffcd87ed1",
   "metadata": {},
   "outputs": [],
   "source": [
    "trade.dropna(subset = ['disbursed_date'], inplace= True)\n",
    "trade.reset_index(inplace=True, drop = True)"
   ]
  },
  {
   "cell_type": "code",
   "execution_count": 11,
   "id": "d7433017-bea4-4a23-b29c-b345c9af4c6b",
   "metadata": {},
   "outputs": [],
   "source": [
    "trade['disbursed_date'] = pd.to_datetime(trade['disbursed_date'])\n",
    "trade['inquiry_date'] = pd.to_datetime(trade['inquiry_date'])"
   ]
  },
  {
   "cell_type": "code",
   "execution_count": 12,
   "id": "b8d614ec-c302-4ea3-a2fb-903ddae69fd1",
   "metadata": {},
   "outputs": [],
   "source": [
    "trade['month_diff'] = ((trade['inquiry_date'] - trade['disbursed_date'])/np.timedelta64(1, 'M'))"
   ]
  },
  {
   "cell_type": "code",
   "execution_count": 15,
   "id": "98527b1f-8395-44ec-a0e4-381d6f439364",
   "metadata": {},
   "outputs": [],
   "source": [
    "trade['month_diff'] = trade['month_diff'].astype('int')"
   ]
  },
  {
   "cell_type": "code",
   "execution_count": 17,
   "id": "fbcac9bf-a149-4ea3-92bc-77da4071414e",
   "metadata": {},
   "outputs": [],
   "source": [
    "trade['Helper'] = trade['month_diff'].apply(lambda x: 3*x*'0')"
   ]
  },
  {
   "cell_type": "code",
   "execution_count": 19,
   "id": "b0c18c4a-db82-430c-a955-c727dfa1a5c5",
   "metadata": {},
   "outputs": [],
   "source": [
    "trade['payment_history1'] = trade['Helper'] + trade['payment_history']"
   ]
  },
  {
   "cell_type": "code",
   "execution_count": 20,
   "id": "609764d6-a87f-4dd9-b1b2-310f4f45e9cf",
   "metadata": {},
   "outputs": [
    {
     "data": {
      "text/html": [
       "<div>\n",
       "<style scoped>\n",
       "    .dataframe tbody tr th:only-of-type {\n",
       "        vertical-align: middle;\n",
       "    }\n",
       "\n",
       "    .dataframe tbody tr th {\n",
       "        vertical-align: top;\n",
       "    }\n",
       "\n",
       "    .dataframe thead th {\n",
       "        text-align: right;\n",
       "    }\n",
       "</style>\n",
       "<table border=\"1\" class=\"dataframe\">\n",
       "  <thead>\n",
       "    <tr style=\"text-align: right;\">\n",
       "      <th></th>\n",
       "      <th>pancard</th>\n",
       "      <th>disbursed_amount</th>\n",
       "      <th>account_type</th>\n",
       "      <th>disbursed_date</th>\n",
       "      <th>closed_date</th>\n",
       "      <th>payment_history</th>\n",
       "      <th>writeoff_status</th>\n",
       "      <th>inquiry_date</th>\n",
       "      <th>month_diff</th>\n",
       "      <th>Helper</th>\n",
       "    </tr>\n",
       "  </thead>\n",
       "  <tbody>\n",
       "    <tr>\n",
       "      <th>0</th>\n",
       "      <td>CFWPD6153C</td>\n",
       "      <td>81,500</td>\n",
       "      <td>Two-Wheeler Loan</td>\n",
       "      <td>2021-01-30</td>\n",
       "      <td>None</td>\n",
       "      <td>0000000000000000000000000000000000000000000000...</td>\n",
       "      <td>None</td>\n",
       "      <td>2022-11-20</td>\n",
       "      <td>21</td>\n",
       "      <td>0000000000000000000000000000000000000000000000...</td>\n",
       "    </tr>\n",
       "    <tr>\n",
       "      <th>1</th>\n",
       "      <td>CFWPD6153C</td>\n",
       "      <td>1,000</td>\n",
       "      <td>Personal Loan</td>\n",
       "      <td>2021-11-29</td>\n",
       "      <td>None</td>\n",
       "      <td>000000000000000000000000000000000Oct:2022,308/...</td>\n",
       "      <td>None</td>\n",
       "      <td>2022-11-20</td>\n",
       "      <td>11</td>\n",
       "      <td>000000000000000000000000000000000</td>\n",
       "    </tr>\n",
       "    <tr>\n",
       "      <th>2</th>\n",
       "      <td>CFWPD6153C</td>\n",
       "      <td>500</td>\n",
       "      <td>Personal Loan</td>\n",
       "      <td>2020-03-16</td>\n",
       "      <td>22-07-2021</td>\n",
       "      <td>0000000000000000000000000000000000000000000000...</td>\n",
       "      <td>None</td>\n",
       "      <td>2022-11-20</td>\n",
       "      <td>32</td>\n",
       "      <td>0000000000000000000000000000000000000000000000...</td>\n",
       "    </tr>\n",
       "    <tr>\n",
       "      <th>3</th>\n",
       "      <td>CFWPD6153C</td>\n",
       "      <td>1,600</td>\n",
       "      <td>Personal Loan</td>\n",
       "      <td>2020-03-21</td>\n",
       "      <td>None</td>\n",
       "      <td>0000000000000000000000000000000000000000000000...</td>\n",
       "      <td>Restructured due to COVID-19</td>\n",
       "      <td>2022-11-20</td>\n",
       "      <td>32</td>\n",
       "      <td>0000000000000000000000000000000000000000000000...</td>\n",
       "    </tr>\n",
       "    <tr>\n",
       "      <th>4</th>\n",
       "      <td>CFWPD6153C</td>\n",
       "      <td>500</td>\n",
       "      <td>Personal Loan</td>\n",
       "      <td>2022-07-23</td>\n",
       "      <td>None</td>\n",
       "      <td>000000000Sep:2022,050/XXX|Aug:2022,020/XXX|</td>\n",
       "      <td>None</td>\n",
       "      <td>2022-11-20</td>\n",
       "      <td>3</td>\n",
       "      <td>000000000</td>\n",
       "    </tr>\n",
       "    <tr>\n",
       "      <th>...</th>\n",
       "      <td>...</td>\n",
       "      <td>...</td>\n",
       "      <td>...</td>\n",
       "      <td>...</td>\n",
       "      <td>...</td>\n",
       "      <td>...</td>\n",
       "      <td>...</td>\n",
       "      <td>...</td>\n",
       "      <td>...</td>\n",
       "      <td>...</td>\n",
       "    </tr>\n",
       "    <tr>\n",
       "      <th>4963</th>\n",
       "      <td>CKCPG2679F</td>\n",
       "      <td>3,000</td>\n",
       "      <td>Other</td>\n",
       "      <td>2021-10-22</td>\n",
       "      <td>None</td>\n",
       "      <td>000000000000000000000000000000Jun:2022,000/STD...</td>\n",
       "      <td>None</td>\n",
       "      <td>2022-09-06</td>\n",
       "      <td>10</td>\n",
       "      <td>000000000000000000000000000000</td>\n",
       "    </tr>\n",
       "    <tr>\n",
       "      <th>4964</th>\n",
       "      <td>CKCPG2679F</td>\n",
       "      <td>10,000</td>\n",
       "      <td>Personal Loan</td>\n",
       "      <td>2021-07-07</td>\n",
       "      <td>None</td>\n",
       "      <td>000000000000000000000000000000000000000May:202...</td>\n",
       "      <td>None</td>\n",
       "      <td>2022-09-06</td>\n",
       "      <td>13</td>\n",
       "      <td>000000000000000000000000000000000000000</td>\n",
       "    </tr>\n",
       "    <tr>\n",
       "      <th>4965</th>\n",
       "      <td>CKCPG2679F</td>\n",
       "      <td>18,000</td>\n",
       "      <td>Personal Loan</td>\n",
       "      <td>2021-10-28</td>\n",
       "      <td>None</td>\n",
       "      <td>000000000000000000000000000000Jun:2022,000/XXX...</td>\n",
       "      <td>None</td>\n",
       "      <td>2022-09-06</td>\n",
       "      <td>10</td>\n",
       "      <td>000000000000000000000000000000</td>\n",
       "    </tr>\n",
       "    <tr>\n",
       "      <th>4966</th>\n",
       "      <td>CKCPG2679F</td>\n",
       "      <td>1,000</td>\n",
       "      <td>Personal Loan</td>\n",
       "      <td>2020-09-27</td>\n",
       "      <td>None</td>\n",
       "      <td>0000000000000000000000000000000000000000000000...</td>\n",
       "      <td>None</td>\n",
       "      <td>2022-09-06</td>\n",
       "      <td>23</td>\n",
       "      <td>0000000000000000000000000000000000000000000000...</td>\n",
       "    </tr>\n",
       "    <tr>\n",
       "      <th>4967</th>\n",
       "      <td>CKCPG2679F</td>\n",
       "      <td>3,500</td>\n",
       "      <td>Personal Loan</td>\n",
       "      <td>2022-06-16</td>\n",
       "      <td>None</td>\n",
       "      <td>000000Jun:2022,000/XXX|</td>\n",
       "      <td>None</td>\n",
       "      <td>2022-09-06</td>\n",
       "      <td>2</td>\n",
       "      <td>000000</td>\n",
       "    </tr>\n",
       "  </tbody>\n",
       "</table>\n",
       "<p>4968 rows × 10 columns</p>\n",
       "</div>"
      ],
      "text/plain": [
       "         pancard disbursed_amount      account_type disbursed_date  \\\n",
       "0     CFWPD6153C           81,500  Two-Wheeler Loan     2021-01-30   \n",
       "1     CFWPD6153C            1,000     Personal Loan     2021-11-29   \n",
       "2     CFWPD6153C              500     Personal Loan     2020-03-16   \n",
       "3     CFWPD6153C            1,600     Personal Loan     2020-03-21   \n",
       "4     CFWPD6153C              500     Personal Loan     2022-07-23   \n",
       "...          ...              ...               ...            ...   \n",
       "4963  CKCPG2679F            3,000             Other     2021-10-22   \n",
       "4964  CKCPG2679F           10,000     Personal Loan     2021-07-07   \n",
       "4965  CKCPG2679F           18,000     Personal Loan     2021-10-28   \n",
       "4966  CKCPG2679F            1,000     Personal Loan     2020-09-27   \n",
       "4967  CKCPG2679F            3,500     Personal Loan     2022-06-16   \n",
       "\n",
       "     closed_date                                    payment_history  \\\n",
       "0           None  0000000000000000000000000000000000000000000000...   \n",
       "1           None  000000000000000000000000000000000Oct:2022,308/...   \n",
       "2     22-07-2021  0000000000000000000000000000000000000000000000...   \n",
       "3           None  0000000000000000000000000000000000000000000000...   \n",
       "4           None        000000000Sep:2022,050/XXX|Aug:2022,020/XXX|   \n",
       "...          ...                                                ...   \n",
       "4963        None  000000000000000000000000000000Jun:2022,000/STD...   \n",
       "4964        None  000000000000000000000000000000000000000May:202...   \n",
       "4965        None  000000000000000000000000000000Jun:2022,000/XXX...   \n",
       "4966        None  0000000000000000000000000000000000000000000000...   \n",
       "4967        None                            000000Jun:2022,000/XXX|   \n",
       "\n",
       "                   writeoff_status inquiry_date  month_diff  \\\n",
       "0                             None   2022-11-20          21   \n",
       "1                             None   2022-11-20          11   \n",
       "2                             None   2022-11-20          32   \n",
       "3     Restructured due to COVID-19   2022-11-20          32   \n",
       "4                             None   2022-11-20           3   \n",
       "...                            ...          ...         ...   \n",
       "4963                          None   2022-09-06          10   \n",
       "4964                          None   2022-09-06          13   \n",
       "4965                          None   2022-09-06          10   \n",
       "4966                          None   2022-09-06          23   \n",
       "4967                          None   2022-09-06           2   \n",
       "\n",
       "                                                 Helper  \n",
       "0     0000000000000000000000000000000000000000000000...  \n",
       "1                     000000000000000000000000000000000  \n",
       "2     0000000000000000000000000000000000000000000000...  \n",
       "3     0000000000000000000000000000000000000000000000...  \n",
       "4                                             000000000  \n",
       "...                                                 ...  \n",
       "4963                     000000000000000000000000000000  \n",
       "4964            000000000000000000000000000000000000000  \n",
       "4965                     000000000000000000000000000000  \n",
       "4966  0000000000000000000000000000000000000000000000...  \n",
       "4967                                             000000  \n",
       "\n",
       "[4968 rows x 10 columns]"
      ]
     },
     "execution_count": 20,
     "metadata": {},
     "output_type": "execute_result"
    }
   ],
   "source": [
    "trade"
   ]
  },
  {
   "cell_type": "code",
   "execution_count": null,
   "id": "f30d9c52-0db7-475f-bd3e-c044480e6c41",
   "metadata": {},
   "outputs": [],
   "source": [
    "import re\n",
    "pattern = \"\\,(\\w+)\\/\"\n",
    "\n",
    "def str_creator(x):\n",
    "    # x = trade['payment_history'][0]\n",
    "    result = re.findall(pattern,x)\n",
    "    if len(result)<12:\n",
    "        result = result + ['000' for i in range(0,12 - len(result))]\n",
    "    if len(result)>12:\n",
    "        result = result[:12]\n",
    "    # res = [result[0],result[1],result[2],result[3],result[4],result[5],result[6],result[7],result[8],result[9],result[10],result[11]]\n",
    "    return result\n",
    "    "
   ]
  },
  {
   "cell_type": "code",
   "execution_count": null,
   "id": "51d34f06-c8b1-4baa-b249-73aac414270d",
   "metadata": {},
   "outputs": [],
   "source": [
    "trade['payment_history_new'] = trade['payment_history1'].apply(lambda x :str_creator(x))"
   ]
  },
  {
   "cell_type": "code",
   "execution_count": null,
   "id": "fe743a92-02d7-464b-a2cb-053767e9a71b",
   "metadata": {},
   "outputs": [],
   "source": [
    "split_his = pd.DataFrame(trade['payment_history_new'].tolist())"
   ]
  },
  {
   "cell_type": "code",
   "execution_count": null,
   "id": "3060dd52-4b49-416f-972a-a2398841e45c",
   "metadata": {},
   "outputs": [],
   "source": [
    "trade['m_1'] = split_his[0]\n",
    "trade['m_2'] = split_his[1]\n",
    "trade['m_3'] = split_his[2]\n",
    "trade['m_4'] = split_his[3]\n",
    "trade['m_5'] = split_his[4]\n",
    "trade['m_6'] = split_his[5]\n",
    "trade['m_7'] = split_his[6]\n",
    "trade['m_8'] = split_his[7]\n",
    "trade['m_9'] = split_his[8]\n",
    "trade['m_10'] = split_his[9]\n",
    "trade['m_11'] = split_his[10]\n",
    "trade['m_12'] = split_his[11]"
   ]
  },
  {
   "cell_type": "code",
   "execution_count": null,
   "id": "0224d6ac-c082-42b2-8423-cae2f7db01af",
   "metadata": {},
   "outputs": [],
   "source": [
    "for col in ['m_1', 'm_2', 'm_3', 'm_4', 'm_5', 'm_6', 'm_7','m_8', 'm_9', 'm_10', 'm_11', 'm_12']:\n",
    "    trade[col] = trade[col].replace(to_replace = ['000', 'XXX', 'DDD'], value = [0,0,0]).astype(int)\n",
    "    "
   ]
  },
  {
   "cell_type": "code",
   "execution_count": null,
   "id": "7bc8fac1-3993-4b90-acc3-a9c5ce105362",
   "metadata": {},
   "outputs": [],
   "source": [
    "sum(trade['inquiry_date'].isna())"
   ]
  },
  {
   "cell_type": "code",
   "execution_count": null,
   "id": "38a0bb2f-1cb7-4efe-8c93-2d4e140600af",
   "metadata": {},
   "outputs": [],
   "source": [
    "pointer = trade.columns.get_loc(\"payment_history_new\") + 1"
   ]
  },
  {
   "cell_type": "code",
   "execution_count": null,
   "id": "8e041637-9c78-4e0b-91c2-20dde6650921",
   "metadata": {},
   "outputs": [],
   "source": [
    "pointer"
   ]
  },
  {
   "cell_type": "code",
   "execution_count": null,
   "id": "6246553f-a751-46ad-aae7-f9b67237e403",
   "metadata": {},
   "outputs": [],
   "source": [
    "for i in [3,6,9,12]:\n",
    "    trade['Max_DPD_'+str(i)+'M'] = trade.iloc[:,pointer:pointer+i].max(axis=1)\n",
    "    trade['DPD_'+str(i)+'M_0'] = (trade.iloc[:,pointer:pointer+i]>0).sum(axis=1)\n",
    "    trade['DPD_'+str(i)+'M_30'] = (trade.iloc[:,pointer:pointer+i]>30).sum(axis=1)\n",
    "    trade['DPD_'+str(i)+'M_60'] = (trade.iloc[:,pointer:pointer+i]>60).sum(axis=1)\n",
    "    trade['DPD_'+str(i)+'M_90'] = (trade.iloc[:,pointer:pointer+i]>90).sum(axis=1)"
   ]
  },
  {
   "cell_type": "code",
   "execution_count": null,
   "id": "3404714f-69bf-4ecc-bb4e-2c014f374b87",
   "metadata": {},
   "outputs": [],
   "source": [
    "unsecured_loans = ['Personal Loan','Consumer Loan','Credit Card']\n",
    "trade['loan_type'] = np.where(trade['account_type'].isin(unsecured_loans),'unsecured','secured')"
   ]
  },
  {
   "cell_type": "code",
   "execution_count": null,
   "id": "1ee9c17e-b17d-4e2f-bd8e-e03557c8493d",
   "metadata": {},
   "outputs": [],
   "source": [
    "trade"
   ]
  },
  {
   "cell_type": "code",
   "execution_count": null,
   "id": "b14c32ca-6374-4057-a139-a878ed2e5eb3",
   "metadata": {},
   "outputs": [],
   "source": []
  }
 ],
 "metadata": {
  "environment": {
   "kernel": "python3",
   "name": "common-cpu.m98",
   "type": "gcloud",
   "uri": "gcr.io/deeplearning-platform-release/base-cpu:m98"
  },
  "kernelspec": {
   "display_name": "Python 3",
   "language": "python",
   "name": "python3"
  },
  "language_info": {
   "codemirror_mode": {
    "name": "ipython",
    "version": 3
   },
   "file_extension": ".py",
   "mimetype": "text/x-python",
   "name": "python",
   "nbconvert_exporter": "python",
   "pygments_lexer": "ipython3",
   "version": "3.7.12"
  }
 },
 "nbformat": 4,
 "nbformat_minor": 5
}
